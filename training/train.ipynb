{
 "cells": [
  {
   "cell_type": "code",
   "execution_count": 1,
   "metadata": {},
   "outputs": [
    {
     "name": "stdout",
     "output_type": "stream",
     "text": [
      "Collecting roboflow\n",
      "  Downloading roboflow-1.1.33-py3-none-any.whl (75 kB)\n",
      "     ---------------------------------------- 75.6/75.6 KB 1.4 MB/s eta 0:00:00\n",
      "Requirement already satisfied: cycler in c:\\users\\ram\\appdata\\local\\programs\\python\\python39\\lib\\site-packages (from roboflow) (0.12.1)\n",
      "Requirement already satisfied: PyYAML>=5.3.1 in c:\\users\\ram\\appdata\\local\\programs\\python\\python39\\lib\\site-packages (from roboflow) (6.0.1)\n",
      "Requirement already satisfied: certifi in c:\\users\\ram\\appdata\\local\\programs\\python\\python39\\lib\\site-packages (from roboflow) (2024.6.2)\n",
      "Collecting requests-toolbelt\n",
      "  Downloading requests_toolbelt-1.0.0-py2.py3-none-any.whl (54 kB)\n",
      "     ---------------------------------------- 54.5/54.5 KB 2.8 MB/s eta 0:00:00\n",
      "Collecting opencv-python-headless==4.10.0.84\n",
      "  Downloading opencv_python_headless-4.10.0.84-cp37-abi3-win_amd64.whl (38.8 MB)\n",
      "     ---------------------------------------- 38.8/38.8 MB 1.1 MB/s eta 0:00:00\n",
      "Collecting chardet==4.0.0\n",
      "  Downloading chardet-4.0.0-py2.py3-none-any.whl (178 kB)\n",
      "     ------------------------------------ 178.7/178.7 KB 717.0 kB/s eta 0:00:00\n",
      "Requirement already satisfied: matplotlib in c:\\users\\ram\\appdata\\local\\programs\\python\\python39\\lib\\site-packages (from roboflow) (3.9.0)\n",
      "Requirement already satisfied: python-dateutil in c:\\users\\ram\\appdata\\local\\programs\\python\\python39\\lib\\site-packages (from roboflow) (2.9.0.post0)\n",
      "Requirement already satisfied: numpy>=1.18.5 in c:\\users\\ram\\appdata\\local\\programs\\python\\python39\\lib\\site-packages (from roboflow) (1.26.4)\n",
      "Collecting python-magic\n",
      "  Downloading python_magic-0.4.27-py2.py3-none-any.whl (13 kB)\n",
      "Collecting python-dotenv\n",
      "  Downloading python_dotenv-1.0.1-py3-none-any.whl (19 kB)\n",
      "Requirement already satisfied: kiwisolver>=1.3.1 in c:\\users\\ram\\appdata\\local\\programs\\python\\python39\\lib\\site-packages (from roboflow) (1.4.5)\n",
      "Requirement already satisfied: six in c:\\users\\ram\\appdata\\local\\programs\\python\\python39\\lib\\site-packages (from roboflow) (1.16.0)\n",
      "Requirement already satisfied: Pillow>=7.1.2 in c:\\users\\ram\\appdata\\local\\programs\\python\\python39\\lib\\site-packages (from roboflow) (10.2.0)\n",
      "Requirement already satisfied: requests in c:\\users\\ram\\appdata\\local\\programs\\python\\python39\\lib\\site-packages (from roboflow) (2.32.3)\n",
      "Requirement already satisfied: tqdm>=4.41.0 in c:\\users\\ram\\appdata\\local\\programs\\python\\python39\\lib\\site-packages (from roboflow) (4.66.4)\n",
      "Requirement already satisfied: idna==3.7 in c:\\users\\ram\\appdata\\local\\programs\\python\\python39\\lib\\site-packages (from roboflow) (3.7)\n",
      "Requirement already satisfied: urllib3>=1.26.6 in c:\\users\\ram\\appdata\\local\\programs\\python\\python39\\lib\\site-packages (from roboflow) (2.2.2)\n",
      "Requirement already satisfied: colorama in c:\\users\\ram\\appdata\\local\\programs\\python\\python39\\lib\\site-packages (from tqdm>=4.41.0->roboflow) (0.4.6)\n",
      "Requirement already satisfied: fonttools>=4.22.0 in c:\\users\\ram\\appdata\\local\\programs\\python\\python39\\lib\\site-packages (from matplotlib->roboflow) (4.53.0)\n",
      "Requirement already satisfied: pyparsing>=2.3.1 in c:\\users\\ram\\appdata\\local\\programs\\python\\python39\\lib\\site-packages (from matplotlib->roboflow) (3.1.2)\n",
      "Requirement already satisfied: packaging>=20.0 in c:\\users\\ram\\appdata\\local\\programs\\python\\python39\\lib\\site-packages (from matplotlib->roboflow) (23.2)\n",
      "Requirement already satisfied: importlib-resources>=3.2.0 in c:\\users\\ram\\appdata\\local\\programs\\python\\python39\\lib\\site-packages (from matplotlib->roboflow) (6.4.0)\n",
      "Requirement already satisfied: contourpy>=1.0.1 in c:\\users\\ram\\appdata\\local\\programs\\python\\python39\\lib\\site-packages (from matplotlib->roboflow) (1.2.1)\n",
      "Requirement already satisfied: charset-normalizer<4,>=2 in c:\\users\\ram\\appdata\\local\\programs\\python\\python39\\lib\\site-packages (from requests->roboflow) (3.3.2)\n",
      "Requirement already satisfied: zipp>=3.1.0 in c:\\users\\ram\\appdata\\local\\programs\\python\\python39\\lib\\site-packages (from importlib-resources>=3.2.0->matplotlib->roboflow) (3.19.2)\n",
      "Installing collected packages: python-magic, python-dotenv, opencv-python-headless, chardet, requests-toolbelt, roboflow\n",
      "Successfully installed chardet-4.0.0 opencv-python-headless-4.10.0.84 python-dotenv-1.0.1 python-magic-0.4.27 requests-toolbelt-1.0.0 roboflow-1.1.33\n"
     ]
    },
    {
     "name": "stderr",
     "output_type": "stream",
     "text": [
      "WARNING: You are using pip version 22.0.4; however, version 24.1 is available.\n",
      "You should consider upgrading via the 'C:\\Users\\Ram\\AppData\\Local\\Programs\\Python\\Python39\\python.exe -m pip install --upgrade pip' command.\n"
     ]
    }
   ],
   "source": [
    "!pip install roboflow"
   ]
  },
  {
   "cell_type": "code",
   "execution_count": null,
   "metadata": {},
   "outputs": [],
   "source": []
  }
 ],
 "metadata": {
  "kernelspec": {
   "display_name": "Python 3",
   "language": "python",
   "name": "python3"
  },
  "language_info": {
   "codemirror_mode": {
    "name": "ipython",
    "version": 3
   },
   "file_extension": ".py",
   "mimetype": "text/x-python",
   "name": "python",
   "nbconvert_exporter": "python",
   "pygments_lexer": "ipython3",
   "version": "3.12.2"
  }
 },
 "nbformat": 4,
 "nbformat_minor": 2
}
